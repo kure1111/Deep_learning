{
  "cells": [
    {
      "cell_type": "code",
      "execution_count": 1,
      "metadata": {
        "colab": {
          "base_uri": "https://localhost:8080/",
          "height": 612
        },
        "id": "ZJQyaUsR9yb7",
        "outputId": "02b32b77-bd32-4291-bf7a-9ef974daac52"
      },
      "outputs": [
        {
          "name": "stdout",
          "output_type": "stream",
          "text": [
            "Downloading data from https://storage.googleapis.com/tensorflow/tf-keras-datasets/mnist.npz\n",
            "11493376/11490434 [==============================] - 0s 0us/step\n",
            "11501568/11490434 [==============================] - 0s 0us/step\n",
            "label:  1\n",
            "dimenciones:  3\n",
            "shape: :  (60000, 28, 28)\n",
            "tipo:  uint8\n",
            "(99, 28, 28)\n",
            "(60000, 14, 14)\n",
            "(60000, 14, 14)\n",
            "(60000, 784)\n",
            "(10000, 784)\n",
            "(60000,)\n",
            "5\n",
            "(10000,)\n",
            "7\n",
            "[0. 0. 0. 0. 0. 0. 0. 1. 0. 0.]\n",
            "[0. 0. 0. 0. 0. 1. 0. 0. 0. 0.]\n",
            "(60000, 10)\n",
            "(10000, 10)\n"
          ]
        },
        {
          "data": {
            "image/png": "[encoded data removed]",
            "text/plain": [
              "<Figure size 432x288 with 1 Axes>"
            ]
          },
          "metadata": {
            "needs_background": "light"
          },
          "output_type": "display_data"
        }
      ],
      "source": [
        "\n",
        "# Author: ALberto G Procopio\n",
        "# Deep learning \n",
        "\n",
        "%tensorflow_version 2.x\n",
        "import tensorflow as tf\n",
        "from tensorflow import keras\n",
        "\n",
        "import numpy as np\n",
        "import matplotlib.pyplot as plt \n",
        "\n",
        "mnist = tf.keras.datasets.mnist\n",
        "#x datos, y etiquetas\n",
        "(x_train, y_train), (x_test, y_test) = mnist.load_data()\n",
        "x_test_Original = x_test\n",
        "#print(x_train[8][5][13]) # adjunta txt de matriz mtxt1.txt\n",
        "plt.imshow(x_train[8], cmap=plt.cm.binary)\n",
        "print(\"label: \", y_train[8])\n",
        "print(\"dimenciones: \", x_train.ndim)\n",
        "print(\"shape: : \", x_train.shape)\n",
        "print(\"tipo: \", x_train.dtype)\n",
        "\n",
        "#Manipular datos 1 al 100\n",
        "my_slice = x_train[1:100:, :] # equivalente a my_slice = x_train[1:100, 0:28, 0:28]\n",
        "print(my_slice.shape)\n",
        "\n",
        "#Todas las imagenes de 14x14 de la ezquina inferior derecha\n",
        "my_slice = x_train[:, 14:, 14:]\n",
        "print(my_slice.shape)\n",
        "\n",
        "#Posicion Relativa\n",
        "# centra la imagen\n",
        "my_slice = x_train[:, 7:-7, 7:-7]\n",
        "print(my_slice.shape)\n",
        "\n",
        "#Normalizar 0-1 en flotante\n",
        "x_train = x_train.astype('float32')\n",
        "x_test = x_test.astype('float32')\n",
        "\n",
        "x_train /= 255\n",
        "x_test /= 255\n",
        "\n",
        "#Convertir matriz en vector\n",
        "#Es el fomato que acepta una red neuronal\n",
        "x_train = x_train.reshape(60000, 784) #28*28 =784\n",
        "x_test = x_test.reshape(10000,784)\n",
        "print(x_train.shape)\n",
        "print(x_test.shape)\n",
        "\n",
        "#One-hot\n",
        "#Vector de tantos ceros como numero de clases distintas\n",
        "print(y_train.shape)\n",
        "print(y_train[0])\n",
        "\n",
        "print(y_test.shape)\n",
        "print(y_test[0])\n",
        "\n",
        "#Contiene el valor de 1 en el indice que corresponde a la etiqueta\n",
        "from tensorflow.keras.utils import to_categorical\n",
        "\n",
        "y_train = to_categorical(y_train, num_classes=10)\n",
        "y_test = to_categorical(y_test, num_classes=10)\n",
        "\n",
        "print(y_test[0])\n",
        "print(y_train[0])\n",
        "print(y_train.shape)\n",
        "print(y_test.shape)"
      ]
    },
    {
      "cell_type": "code",
      "execution_count": 2,
      "metadata": {
        "colab": {
          "base_uri": "https://localhost:8080/"
        },
        "id": "edGjdoDhSUSg",
        "outputId": "a6ec2ab9-b520-4ddb-e713-5366a143760e"
      },
      "outputs": [
        {
          "name": "stdout",
          "output_type": "stream",
          "text": [
            "Model: \"sequential\"\n",
            "_________________________________________________________________\n",
            " Layer (type)                Output Shape              Param #   \n",
            "=================================================================\n",
            " dense (Dense)               (None, 10)                7850      \n",
            "                                                                 \n",
            " dense_1 (Dense)             (None, 10)                110       \n",
            "                                                                 \n",
            "=================================================================\n",
            "Total params: 7,960\n",
            "Trainable params: 7,960\n",
            "Non-trainable params: 0\n",
            "_________________________________________________________________\n"
          ]
        }
      ],
      "source": [
        "#Definicion del modelo\n",
        "from tensorflow.keras import Sequential\n",
        "from tensorflow.keras.layers import Dense\n",
        "\n",
        "model = Sequential()\n",
        "model.add(Dense(10, activation='sigmoid', input_shape=(784,)))\n",
        "model.add(Dense(10,activation='softmax'))\n",
        "model.summary()\n"
      ]
    },
    {
      "cell_type": "code",
      "execution_count": 3,
      "metadata": {
        "id": "IlbYxiaTr-oA"
      },
      "outputs": [],
      "source": [
        "#Proceso de Aprendizaje\n",
        "model.compile(loss=\"categorical_crossentropy\",\n",
        "              optimizer=\"sgd\",\n",
        "              metrics = ['accuracy']\n",
        ")"
      ]
    },
    {
      "cell_type": "code",
      "execution_count": 4,
      "metadata": {
        "colab": {
          "base_uri": "https://localhost:8080/"
        },
        "id": "G_Uz2pY60C2k",
        "outputId": "02713fb3-a7db-434a-c156-8210ec30ac50"
      },
      "outputs": [
        {
          "name": "stdout",
          "output_type": "stream",
          "text": [
            "Epoch 1/6\n",
            "1875/1875 [==============================] - 6s 3ms/step - loss: 1.9186 - accuracy: 0.5104\n",
            "Epoch 2/6\n",
            "1875/1875 [==============================] - 3s 1ms/step - loss: 1.3063 - accuracy: 0.7245\n",
            "Epoch 3/6\n",
            "1875/1875 [==============================] - 3s 1ms/step - loss: 0.9549 - accuracy: 0.7867\n",
            "Epoch 4/6\n",
            "1875/1875 [==============================] - 3s 1ms/step - loss: 0.7675 - accuracy: 0.8291\n",
            "Epoch 5/6\n",
            "1875/1875 [==============================] - 3s 1ms/step - loss: 0.6548 - accuracy: 0.8543\n",
            "Epoch 6/6\n",
            "1875/1875 [==============================] - 3s 1ms/step - loss: 0.5795 - accuracy: 0.8687\n"
          ]
        },
        {
          "data": {
            "text/plain": [
              "<keras.callbacks.History at 0x7f1b476a6fd0>"
            ]
          },
          "execution_count": 4,
          "metadata": {},
          "output_type": "execute_result"
        }
      ],
      "source": [
        "#Entrenamiento del modelo\n",
        "model.fit(x_train, y_train, epochs=6)"
      ]
    },
    {
      "cell_type": "code",
      "execution_count": 5,
      "metadata": {
        "colab": {
          "base_uri": "https://localhost:8080/"
        },
        "id": "_DaJ0YRDA-e_",
        "outputId": "24141c27-cacf-4295-cb64-19fe2820187b"
      },
      "outputs": [
        {
          "name": "stdout",
          "output_type": "stream",
          "text": [
            "313/313 [==============================] - 1s 1ms/step - loss: 0.5404 - accuracy: 0.8776\n",
            "Test accuracy:  0.8776000142097473\n"
          ]
        }
      ],
      "source": [
        "#Evaluacion del modelo\n",
        "test_loss, test_acc = model.evaluate(x_test, y_test)\n",
        "print('Test accuracy: ', test_acc)"
      ]
    },
    {
      "cell_type": "code",
      "execution_count": 6,
      "metadata": {
        "colab": {
          "base_uri": "https://localhost:8080/",
          "height": 334
        },
        "id": "rUsYSWueDibC",
        "outputId": "36083de8-bdfb-4b17-bfe5-cba4b6cba31e"
      },
      "outputs": [
        {
          "name": "stdout",
          "output_type": "stream",
          "text": [
            "Forma de lo que devuelve model.predict:  (10000, 10)\n",
            "[0.0580718  0.00800459 0.01256543 0.40527356 0.0082295  0.3526184\n",
            " 0.01151718 0.01168217 0.1217024  0.01033498]\n"
          ]
        },
        {
          "data": {
            "text/plain": [
              "0.99999994"
            ]
          },
          "execution_count": 6,
          "metadata": {},
          "output_type": "execute_result"
        },
        {
          "data": {
            "image/png": "[encoded data removed]",
            "text/plain": [
              "<Figure size 432x288 with 1 Axes>"
            ]
          },
          "metadata": {
            "needs_background": "light"
          },
          "output_type": "display_data"
        }
      ],
      "source": [
        "#Generacion de predicciones\n",
        "plt.imshow(x_test_Original[15], cmap=plt.cm.binary) # ver por nosostros mismo el numero\n",
        "predictions = model.predict(x_test)\n",
        "print(\"Forma de lo que devuelve model.predict: \", predictions.shape)\n",
        "print(predictions[15])\n",
        "np.argmax(predictions[15])\n",
        "np.sum(predictions[15])"
      ]
    }
  ],
  "metadata": {
    "colab": {
      "collapsed_sections": [],
      "name": "Reconocimiento_de_Digitos.ipynb",
      "provenance": []
    },
    "kernelspec": {
      "display_name": "Python 3",
      "name": "python3"
    },
    "language_info": {
      "name": "python"
    }
  },
  "nbformat": 4,
  "nbformat_minor": 0
}
